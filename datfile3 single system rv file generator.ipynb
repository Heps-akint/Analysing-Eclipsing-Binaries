{
 "cells": [
  {
   "cell_type": "code",
   "execution_count": 1,
   "id": "643d5b96",
   "metadata": {},
   "outputs": [],
   "source": [
    "from astropy.io import fits\n",
    "from astropy.table import Table\n",
    "from astropy import units as u\n",
    "from astropy.io import fits\n",
    "import numpy as np\n",
    "import matplotlib.pyplot as plt\n",
    "\n",
    "\n",
    "APOGEE_ID = '2M19120487+4619269'\n"
   ]
  },
  {
   "cell_type": "code",
   "execution_count": 2,
   "id": "e89aaca5",
   "metadata": {},
   "outputs": [
    {
     "name": "stdout",
     "output_type": "stream",
     "text": [
      "Populating the interactive namespace from numpy and matplotlib\n"
     ]
    }
   ],
   "source": [
    "%pylab notebook\n",
    "\n",
    "tb = Table.read('datafile3.fits')"
   ]
  },
  {
   "cell_type": "code",
   "execution_count": 3,
   "id": "e0fd2e39",
   "metadata": {
    "scrolled": false
   },
   "outputs": [
    {
     "data": {
      "text/html": [
       "<div><i>Table length=32642</i>\n",
       "<table id=\"table140493761388496\" class=\"table-striped table-bordered table-condensed\">\n",
       "<thead><tr><th>objid</th><th>hjd</th><th>v1</th><th>e_v1</th><th>v2</th><th>e_v2</th><th>v3</th><th>e_v3</th><th>v4</th><th>e_v4</th></tr></thead>\n",
       "<thead><tr><th></th><th>d</th><th>km / s</th><th>km / s</th><th>km / s</th><th>km / s</th><th>km / s</th><th>km / s</th><th>km / s</th><th>km / s</th></tr></thead>\n",
       "<thead><tr><th>bytes18</th><th>float64</th><th>float64</th><th>float64</th><th>float64</th><th>float64</th><th>float64</th><th>float64</th><th>float64</th><th>float64</th></tr></thead>\n",
       "<tr><td>2M13030323+4232237</td><td>57502.6302708</td><td>-40.5</td><td>1.4</td><td>29.6</td><td>4.7</td><td>--</td><td>--</td><td>--</td><td>--</td></tr>\n",
       "<tr><td>2M13030323+4232237</td><td>57473.6888162</td><td>-17.1</td><td>1.2</td><td>--</td><td>--</td><td>--</td><td>--</td><td>--</td><td>--</td></tr>\n",
       "<tr><td>2M13030323+4232237</td><td>57446.7775595</td><td>-19.2</td><td>1.3</td><td>--</td><td>--</td><td>--</td><td>--</td><td>--</td><td>--</td></tr>\n",
       "<tr><td>2M13030323+4232237</td><td>57418.8776482</td><td>39.6</td><td>2.6</td><td>-21.0</td><td>4.2</td><td>-130.6</td><td>3.7</td><td>--</td><td>--</td></tr>\n",
       "<tr><td>2M13030323+4232237</td><td>57415.8997882</td><td>40.2</td><td>2.1</td><td>-24.6</td><td>2.9</td><td>-127.6</td><td>3.5</td><td>--</td><td>--</td></tr>\n",
       "<tr><td>2M13030323+4232237</td><td>57412.8934689</td><td>36.8</td><td>2.5</td><td>-22.2</td><td>3.2</td><td>-129.5</td><td>3.0</td><td>--</td><td>--</td></tr>\n",
       "<tr><td>2M13030323+4232237</td><td>57465.7243121</td><td>-72.3</td><td>3.3</td><td>-20.6</td><td>3.4</td><td>74.7</td><td>6.4</td><td>--</td><td>--</td></tr>\n",
       "<tr><td>2M13030323+4232237</td><td>57462.7498506</td><td>-29.0</td><td>11.0</td><td>-71.9</td><td>8.8</td><td>49.0</td><td>14.0</td><td>--</td><td>--</td></tr>\n",
       "<tr><td>2M13030323+4232237</td><td>57443.807879</td><td>-22.6</td><td>1.1</td><td>--</td><td>--</td><td>--</td><td>--</td><td>--</td><td>--</td></tr>\n",
       "<tr><td>...</td><td>...</td><td>...</td><td>...</td><td>...</td><td>...</td><td>...</td><td>...</td><td>...</td><td>...</td></tr>\n",
       "<tr><td>AP17132302-2859542</td><td>58675.5824325</td><td>-125.58</td><td>0.64</td><td>9.78</td><td>0.66</td><td>--</td><td>--</td><td>--</td><td>--</td></tr>\n",
       "<tr><td>AP17183407-2921433</td><td>58675.6394127</td><td>-40.49</td><td>0.86</td><td>-67.0</td><td>1.2</td><td>--</td><td>--</td><td>--</td><td>--</td></tr>\n",
       "<tr><td>AP17185189-2925485</td><td>58675.5824879</td><td>-172.69</td><td>0.65</td><td>-10.8</td><td>1.1</td><td>--</td><td>--</td><td>--</td><td>--</td></tr>\n",
       "<tr><td>AP17350340-3822492</td><td>58674.68662</td><td>-27.4</td><td>6.6</td><td>-55.7</td><td>9.7</td><td>--</td><td>--</td><td>--</td><td>--</td></tr>\n",
       "<tr><td>AP17365522-3832573</td><td>58674.6866306</td><td>84.8</td><td>0.77</td><td>15.94</td><td>0.77</td><td>--</td><td>--</td><td>--</td><td>--</td></tr>\n",
       "<tr><td>AP17445045-2824064</td><td>58322.6385726</td><td>-27.8</td><td>1.1</td><td>-51.8</td><td>1.3</td><td>--</td><td>--</td><td>--</td><td>--</td></tr>\n",
       "<tr><td>AP17494238-3700461</td><td>58297.7774552</td><td>-16.5</td><td>9.0</td><td>-45.0</td><td>11.0</td><td>--</td><td>--</td><td>--</td><td>--</td></tr>\n",
       "<tr><td>AP17512150-2747325</td><td>58323.4763818</td><td>-21.74</td><td>0.58</td><td>77.3</td><td>1.0</td><td>--</td><td>--</td><td>--</td><td>--</td></tr>\n",
       "<tr><td>AP17523209-3020555</td><td>58349.5363373</td><td>180.6</td><td>0.67</td><td>41.39</td><td>0.73</td><td>--</td><td>--</td><td>--</td><td>--</td></tr>\n",
       "<tr><td>AP17575225-2817152</td><td>58626.8133692</td><td>-59.36</td><td>0.92</td><td>1.05</td><td>0.9</td><td>--</td><td>--</td><td>--</td><td>--</td></tr>\n",
       "</table></div>"
      ],
      "text/plain": [
       "<Table length=32642>\n",
       "      objid             hjd         v1     e_v1  ...   e_v3     v4     e_v4 \n",
       "                         d        km / s  km / s ...  km / s  km / s  km / s\n",
       "     bytes18          float64    float64 float64 ... float64 float64 float64\n",
       "------------------ ------------- ------- ------- ... ------- ------- -------\n",
       "2M13030323+4232237 57502.6302708   -40.5     1.4 ...      --      --      --\n",
       "2M13030323+4232237 57473.6888162   -17.1     1.2 ...      --      --      --\n",
       "2M13030323+4232237 57446.7775595   -19.2     1.3 ...      --      --      --\n",
       "2M13030323+4232237 57418.8776482    39.6     2.6 ...     3.7      --      --\n",
       "2M13030323+4232237 57415.8997882    40.2     2.1 ...     3.5      --      --\n",
       "2M13030323+4232237 57412.8934689    36.8     2.5 ...     3.0      --      --\n",
       "2M13030323+4232237 57465.7243121   -72.3     3.3 ...     6.4      --      --\n",
       "2M13030323+4232237 57462.7498506   -29.0    11.0 ...    14.0      --      --\n",
       "2M13030323+4232237  57443.807879   -22.6     1.1 ...      --      --      --\n",
       "               ...           ...     ...     ... ...     ...     ...     ...\n",
       "AP17132302-2859542 58675.5824325 -125.58    0.64 ...      --      --      --\n",
       "AP17183407-2921433 58675.6394127  -40.49    0.86 ...      --      --      --\n",
       "AP17185189-2925485 58675.5824879 -172.69    0.65 ...      --      --      --\n",
       "AP17350340-3822492   58674.68662   -27.4     6.6 ...      --      --      --\n",
       "AP17365522-3832573 58674.6866306    84.8    0.77 ...      --      --      --\n",
       "AP17445045-2824064 58322.6385726   -27.8     1.1 ...      --      --      --\n",
       "AP17494238-3700461 58297.7774552   -16.5     9.0 ...      --      --      --\n",
       "AP17512150-2747325 58323.4763818  -21.74    0.58 ...      --      --      --\n",
       "AP17523209-3020555 58349.5363373   180.6    0.67 ...      --      --      --\n",
       "AP17575225-2817152 58626.8133692  -59.36    0.92 ...      --      --      --"
      ]
     },
     "execution_count": 3,
     "metadata": {},
     "output_type": "execute_result"
    }
   ],
   "source": [
    "tb"
   ]
  },
  {
   "cell_type": "code",
   "execution_count": 4,
   "id": "b9612e13",
   "metadata": {},
   "outputs": [],
   "source": [
    "n2mask = (tb['objid'] ==APOGEE_ID)#&(tb['tess_variable']=='d')"
   ]
  },
  {
   "cell_type": "code",
   "execution_count": 5,
   "id": "d4851cfe",
   "metadata": {},
   "outputs": [
    {
     "ename": "KeyError",
     "evalue": "'p'",
     "output_type": "error",
     "traceback": [
      "\u001b[0;31m---------------------------------------------------------------------------\u001b[0m",
      "\u001b[0;31mKeyError\u001b[0m                                  Traceback (most recent call last)",
      "\u001b[0;32m/tmp/ipykernel_158/726417661.py\u001b[0m in \u001b[0;36m<module>\u001b[0;34m\u001b[0m\n\u001b[0;32m----> 1\u001b[0;31m \u001b[0mpok\u001b[0m \u001b[0;34m=\u001b[0m \u001b[0mtb\u001b[0m\u001b[0;34m[\u001b[0m\u001b[0;34m'p'\u001b[0m\u001b[0;34m]\u001b[0m\u001b[0;34m.\u001b[0m\u001b[0mmask\u001b[0m\u001b[0;34m\u001b[0m\u001b[0;34m\u001b[0m\u001b[0m\n\u001b[0m",
      "\u001b[0;32m/opt/conda/lib/python3.9/site-packages/astropy/table/table.py\u001b[0m in \u001b[0;36m__getitem__\u001b[0;34m(self, item)\u001b[0m\n\u001b[1;32m   2068\u001b[0m     \u001b[0;32mdef\u001b[0m \u001b[0m__getitem__\u001b[0m\u001b[0;34m(\u001b[0m\u001b[0mself\u001b[0m\u001b[0;34m,\u001b[0m \u001b[0mitem\u001b[0m\u001b[0;34m)\u001b[0m\u001b[0;34m:\u001b[0m\u001b[0;34m\u001b[0m\u001b[0;34m\u001b[0m\u001b[0m\n\u001b[1;32m   2069\u001b[0m         \u001b[0;32mif\u001b[0m \u001b[0misinstance\u001b[0m\u001b[0;34m(\u001b[0m\u001b[0mitem\u001b[0m\u001b[0;34m,\u001b[0m \u001b[0mstr\u001b[0m\u001b[0;34m)\u001b[0m\u001b[0;34m:\u001b[0m\u001b[0;34m\u001b[0m\u001b[0;34m\u001b[0m\u001b[0m\n\u001b[0;32m-> 2070\u001b[0;31m             \u001b[0;32mreturn\u001b[0m \u001b[0mself\u001b[0m\u001b[0;34m.\u001b[0m\u001b[0mcolumns\u001b[0m\u001b[0;34m[\u001b[0m\u001b[0mitem\u001b[0m\u001b[0;34m]\u001b[0m\u001b[0;34m\u001b[0m\u001b[0;34m\u001b[0m\u001b[0m\n\u001b[0m\u001b[1;32m   2071\u001b[0m         \u001b[0;32melif\u001b[0m \u001b[0misinstance\u001b[0m\u001b[0;34m(\u001b[0m\u001b[0mitem\u001b[0m\u001b[0;34m,\u001b[0m \u001b[0;34m(\u001b[0m\u001b[0mint\u001b[0m\u001b[0;34m,\u001b[0m \u001b[0mnp\u001b[0m\u001b[0;34m.\u001b[0m\u001b[0minteger\u001b[0m\u001b[0;34m)\u001b[0m\u001b[0;34m)\u001b[0m\u001b[0;34m:\u001b[0m\u001b[0;34m\u001b[0m\u001b[0;34m\u001b[0m\u001b[0m\n\u001b[1;32m   2072\u001b[0m             \u001b[0;32mreturn\u001b[0m \u001b[0mself\u001b[0m\u001b[0;34m.\u001b[0m\u001b[0mRow\u001b[0m\u001b[0;34m(\u001b[0m\u001b[0mself\u001b[0m\u001b[0;34m,\u001b[0m \u001b[0mitem\u001b[0m\u001b[0;34m)\u001b[0m\u001b[0;34m\u001b[0m\u001b[0;34m\u001b[0m\u001b[0m\n",
      "\u001b[0;32m/opt/conda/lib/python3.9/site-packages/astropy/table/table.py\u001b[0m in \u001b[0;36m__getitem__\u001b[0;34m(self, item)\u001b[0m\n\u001b[1;32m    261\u001b[0m         \"\"\"\n\u001b[1;32m    262\u001b[0m         \u001b[0;32mif\u001b[0m \u001b[0misinstance\u001b[0m\u001b[0;34m(\u001b[0m\u001b[0mitem\u001b[0m\u001b[0;34m,\u001b[0m \u001b[0mstr\u001b[0m\u001b[0;34m)\u001b[0m\u001b[0;34m:\u001b[0m\u001b[0;34m\u001b[0m\u001b[0;34m\u001b[0m\u001b[0m\n\u001b[0;32m--> 263\u001b[0;31m             \u001b[0;32mreturn\u001b[0m \u001b[0mOrderedDict\u001b[0m\u001b[0;34m.\u001b[0m\u001b[0m__getitem__\u001b[0m\u001b[0;34m(\u001b[0m\u001b[0mself\u001b[0m\u001b[0;34m,\u001b[0m \u001b[0mitem\u001b[0m\u001b[0;34m)\u001b[0m\u001b[0;34m\u001b[0m\u001b[0;34m\u001b[0m\u001b[0m\n\u001b[0m\u001b[1;32m    264\u001b[0m         \u001b[0;32melif\u001b[0m \u001b[0misinstance\u001b[0m\u001b[0;34m(\u001b[0m\u001b[0mitem\u001b[0m\u001b[0;34m,\u001b[0m \u001b[0;34m(\u001b[0m\u001b[0mint\u001b[0m\u001b[0;34m,\u001b[0m \u001b[0mnp\u001b[0m\u001b[0;34m.\u001b[0m\u001b[0minteger\u001b[0m\u001b[0;34m)\u001b[0m\u001b[0;34m)\u001b[0m\u001b[0;34m:\u001b[0m\u001b[0;34m\u001b[0m\u001b[0;34m\u001b[0m\u001b[0m\n\u001b[1;32m    265\u001b[0m             \u001b[0;32mreturn\u001b[0m \u001b[0mlist\u001b[0m\u001b[0;34m(\u001b[0m\u001b[0mself\u001b[0m\u001b[0;34m.\u001b[0m\u001b[0mvalues\u001b[0m\u001b[0;34m(\u001b[0m\u001b[0;34m)\u001b[0m\u001b[0;34m)\u001b[0m\u001b[0;34m[\u001b[0m\u001b[0mitem\u001b[0m\u001b[0;34m]\u001b[0m\u001b[0;34m\u001b[0m\u001b[0;34m\u001b[0m\u001b[0m\n",
      "\u001b[0;31mKeyError\u001b[0m: 'p'"
     ]
    }
   ],
   "source": [
    "pok = tb['p'].mask"
   ]
  },
  {
   "cell_type": "code",
   "execution_count": null,
   "id": "249ae83c",
   "metadata": {},
   "outputs": [],
   "source": [
    "table_n2_pok = tb[n2mask]"
   ]
  },
  {
   "cell_type": "code",
   "execution_count": null,
   "id": "8a7fe0a4",
   "metadata": {
    "scrolled": false
   },
   "outputs": [],
   "source": [
    "table_n2_pok.show_in_notebook()"
   ]
  },
  {
   "cell_type": "code",
   "execution_count": null,
   "id": "7fe495ab",
   "metadata": {},
   "outputs": [],
   "source": [
    "adjustedHJD= table_n2_pok['hjd']-57000\n",
    "\n",
    "np.savetxt(APOGEE_ID+\"_s1.rv\",np.array([adjustedHJD,table_n2_pok['v1'],table_n2_pok['e_v1']]).T,fmt='%.6f')\n",
    "np.savetxt(APOGEE_ID+\"_s2.rv\",np.array([adjustedHJD,table_n2_pok['v2'],table_n2_pok['e_v2']]).T,fmt='%.6f')"
   ]
  },
  {
   "cell_type": "code",
   "execution_count": null,
   "id": "94862f0b",
   "metadata": {},
   "outputs": [],
   "source": [
    "from astropy import coordinates\n",
    "import astropy.units as u\n",
    "# works only for ICRS coordinates:\n",
    "c = coordinates.SkyCoord(, frame='icrs')\n",
    "r = 5 * u.arcminute\n",
    "result_table = Simbad.query_region(c, radius=r)"
   ]
  },
  {
   "cell_type": "code",
   "execution_count": null,
   "id": "266b8f38",
   "metadata": {},
   "outputs": [],
   "source": []
  }
 ],
 "metadata": {
  "kernelspec": {
   "display_name": "Python 3 (ipykernel)",
   "language": "python",
   "name": "python3"
  },
  "language_info": {
   "codemirror_mode": {
    "name": "ipython",
    "version": 3
   },
   "file_extension": ".py",
   "mimetype": "text/x-python",
   "name": "python",
   "nbconvert_exporter": "python",
   "pygments_lexer": "ipython3",
   "version": "3.9.7"
  }
 },
 "nbformat": 4,
 "nbformat_minor": 5
}
